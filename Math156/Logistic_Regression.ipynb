{
 "cells": [
  {
   "cell_type": "code",
   "execution_count": 14,
   "metadata": {},
   "outputs": [],
   "source": [
    "import numpy as np"
   ]
  },
  {
   "cell_type": "code",
   "execution_count": 18,
   "metadata": {},
   "outputs": [],
   "source": [
    "# generate training samples\n",
    "m0 = 100\n",
    "m1 = 50\n",
    "s0x_s = np.random.uniform(0,1,(m0,1))\n",
    "s0y_s = s0x_s + 1/4 + np.random.normal(0,0.2,(m0,1))\n",
    "s1x_s = np.random.uniform(0.6,1.6,(m1,1))\n",
    "s1y_s = np.random.uniform(0,1,(m1,1))\n",
    "\n",
    "X0 = np.column_stack((s0x_s,s0y_s))\n",
    "X1 = np.column_stack((s1x_s,s1y_s))\n",
    "\n",
    "# training inputs: each row represents a data\n",
    "X = np.row_stack((X0,X1))\n",
    "# training outputs: the first 100 samples are labeled as 1 and the remaining 50 samples are labeled as 0\n",
    "y = np.zeros( (m0+m1,1) )\n",
    "y[:m0] = 1\n",
    "\n",
    "\n",
    "# generate test samples\n",
    "m0 = 20\n",
    "m1 = 20\n",
    "s0x_s = np.random.uniform(0,1,(m0,1))\n",
    "s0y_s = s0x_s + 1/4 + np.random.normal(0,0.2,(m0,1))\n",
    "s1x_s = np.random.uniform(0.6,1.6,(m1,1))\n",
    "s1y_s = np.random.uniform(0,1,(m1,1))\n",
    "\n",
    "X0 = np.column_stack((s0x_s,s0y_s))\n",
    "X1 = np.column_stack((s1x_s,s1y_s))\n",
    "# test inputs: each row represents a data\n",
    "X_test = np.row_stack((X0,X1))\n",
    "# test outputs: first 20 samples with label 1 and remaining samples with label 0\n",
    "y_test = np.zeros( (m0+m1,1) )\n",
    "y_test[:m0] = 1\n"
   ]
  },
  {
   "cell_type": "markdown",
   "metadata": {},
   "source": [
    "Run above cells to generate a synthetic dataset. In the later code, you can only use `X,y`, `X_test, y_test`, which are training and test samples, repectively."
   ]
  },
  {
   "cell_type": "code",
   "execution_count": null,
   "metadata": {},
   "outputs": [],
   "source": [
    "#### Write your function here\n",
    "\n"
   ]
  },
  {
   "cell_type": "code",
   "execution_count": null,
   "metadata": {},
   "outputs": [],
   "source": [
    "#### Train a logistic regression model using your function and training samples\n",
    "\n"
   ]
  },
  {
   "cell_type": "code",
   "execution_count": null,
   "metadata": {},
   "outputs": [],
   "source": [
    "#### Report test accuracy\n",
    "\n"
   ]
  }
 ],
 "metadata": {
  "kernelspec": {
   "display_name": "Python 3",
   "language": "python",
   "name": "python3"
  },
  "language_info": {
   "codemirror_mode": {
    "name": "ipython",
    "version": 3
   },
   "file_extension": ".py",
   "mimetype": "text/x-python",
   "name": "python",
   "nbconvert_exporter": "python",
   "pygments_lexer": "ipython3",
   "version": "3.7.6"
  }
 },
 "nbformat": 4,
 "nbformat_minor": 4
}
