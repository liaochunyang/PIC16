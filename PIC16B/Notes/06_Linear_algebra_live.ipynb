{
 "cells": [
  {
   "cell_type": "markdown",
   "metadata": {},
   "source": [
    "# Linear Algebra\n",
    "\n",
    "In this notes, we will discuss vector, matrix, matrix multiplication, inverse matrix, transpose, norm, linear system, and least-square problem."
   ]
  },
  {
   "cell_type": "code",
   "execution_count": null,
   "metadata": {},
   "outputs": [],
   "source": [
    "import numpy as np"
   ]
  },
  {
   "cell_type": "markdown",
   "metadata": {},
   "source": [
    "## matrix, vector and multiplication"
   ]
  },
  {
   "cell_type": "code",
   "execution_count": null,
   "metadata": {},
   "outputs": [],
   "source": [
    "# matrix, vector and multiplication\n",
    "A = np.array([[1,2,1],[0,1,0]])\n",
    "x = np.array([[1],[2],[3]])\n"
   ]
  },
  {
   "cell_type": "code",
   "execution_count": null,
   "metadata": {},
   "outputs": [],
   "source": [
    "# matrix by matrix\n",
    "B = np.array([[1,0],[0,1],[1,1]])\n"
   ]
  },
  {
   "cell_type": "markdown",
   "metadata": {},
   "source": [
    "## Inverse and transpose"
   ]
  },
  {
   "cell_type": "code",
   "execution_count": null,
   "metadata": {},
   "outputs": [],
   "source": [
    "# inverse of a matrix\n",
    "A = np.array([[1,2],[2,5]])\n"
   ]
  },
  {
   "cell_type": "code",
   "execution_count": null,
   "metadata": {},
   "outputs": [],
   "source": [
    "# not all matrix are invertibe\n",
    "A = np.array([[1,2],[2,4]])\n"
   ]
  },
  {
   "cell_type": "code",
   "execution_count": null,
   "metadata": {},
   "outputs": [],
   "source": [
    "# transpose\n"
   ]
  },
  {
   "cell_type": "markdown",
   "metadata": {},
   "source": [
    "## Norm \n",
    "\n",
    "Mathematical formulas are given during the lecture. You can also check this [page](https://en.wikipedia.org/wiki/Norm_(mathematics))."
   ]
  },
  {
   "cell_type": "code",
   "execution_count": null,
   "metadata": {},
   "outputs": [],
   "source": [
    "# vector norm\n",
    "x = np.array([1,-1,2,3,-4])\n"
   ]
  },
  {
   "cell_type": "markdown",
   "metadata": {},
   "source": [
    "We can use the same command to compute matrix norm, see examples below."
   ]
  },
  {
   "cell_type": "code",
   "execution_count": null,
   "metadata": {},
   "outputs": [],
   "source": [
    "# matrix norm \n",
    "A = np.arange(4).reshape(2,2)\n"
   ]
  },
  {
   "cell_type": "markdown",
   "metadata": {},
   "source": [
    "## Linear system\n",
    "\n",
    "We will discuss solving linear system and least square problem.\n",
    "\n",
    "In many applications, we need to solve a linear system $Ax=b$. The goal is to find $x$ given matrix $A$ and output $b$. If $A$ is a square matrix and invertible, then we can solve the problem by multiplying $A^{-1}$ for both sides. However, computing $A^{-1}$ is expensive. In python, we can use numpy.linalg.solve command to solve $Ax=b$."
   ]
  },
  {
   "cell_type": "code",
   "execution_count": null,
   "metadata": {},
   "outputs": [],
   "source": [
    "A = np.array([[1,2],[2,5]])\n",
    "b = np.array([[3],[7]])\n",
    "\n"
   ]
  },
  {
   "cell_type": "markdown",
   "metadata": {},
   "source": [
    "Can we solve linear system $Ax=b$ when $A$ is not a square matrix or $A$ is a square matrix but not invertible?\n",
    "\n",
    "## Least-square problem\n",
    "\n",
    "We want to find $x$ such that $Ax$ is as close to $b$ as possible, i.e.\n",
    "\n",
    "$$ \\mathop{ \\mathrm{min} }_x \\|Ax-b\\|_2 $$\n",
    "\n",
    "- if we minimize L2 norm ($\\|x\\|_2$), it has a nice formula $x = (A^TA)^{-1}A^Tb$. This nice formula comes form normal equation $A^TAx = A^Tb$, which can be obtained by finding the gradient of objective function and setting it to zero.\n",
    "\n",
    "Minimize L2 norm problem is also called least square problem. Linear regression can be written in this form. Actually, many problems can be written as least square problem.\n",
    "\n",
    "We can also minimize other norms, but we do not have nice formula. But we can design other algorithms to solve it. \n"
   ]
  },
  {
   "cell_type": "code",
   "execution_count": null,
   "metadata": {},
   "outputs": [],
   "source": [
    "# verification:\n",
    "A = np.array([[1,1],[2,2],[1,0]])\n",
    "b = np.array([[5],[10],[7]])\n",
    "\n"
   ]
  },
  {
   "cell_type": "markdown",
   "metadata": {},
   "source": [
    "## Your own linear solver"
   ]
  },
  {
   "cell_type": "code",
   "execution_count": null,
   "metadata": {},
   "outputs": [],
   "source": []
  }
 ],
 "metadata": {
  "kernelspec": {
   "display_name": "Python 3",
   "language": "python",
   "name": "python3"
  },
  "language_info": {
   "codemirror_mode": {
    "name": "ipython",
    "version": 3
   },
   "file_extension": ".py",
   "mimetype": "text/x-python",
   "name": "python",
   "nbconvert_exporter": "python",
   "pygments_lexer": "ipython3",
   "version": "3.7.6"
  }
 },
 "nbformat": 4,
 "nbformat_minor": 4
}
