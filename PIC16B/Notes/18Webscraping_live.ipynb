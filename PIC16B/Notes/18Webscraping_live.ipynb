{
 "cells": [
  {
   "cell_type": "markdown",
   "metadata": {},
   "source": [
    "# Web Scraping\n",
    "\n",
    "## What is Web Scraping?\n",
    "\n",
    "- \"The web\": a collection of files hosted on a large network of \n",
    "communicating servers.\n",
    "- *Webscraping* : the act of accessing those files and programmatically saving them, or parts of them, to a chosen location (usually your computer). This is often a critical task  when writing projects that require\n",
    "data from the internet. \n",
    "\n",
    "\n",
    "\n",
    "HTML (HyperText Markup Language): said to be the fabric of the internet. \n",
    "\n",
    "Nearly all of the things that you \n",
    "would normally think of as \"webpages\" are really files \n",
    "written in HTML. A browser like Firefox, Chrome, or Safari is\n",
    "just a program for *rendering* HTML in an attractive visual \n",
    "format. \n",
    "\n",
    "- Unfortunately, for scraping, we often need to interact\n",
    "with raw HTML, which can get messy. \n",
    "- Fortunately, the BeautifulSoup package gives us some tools with which to do this. \n",
    "\n",
    "\n",
    "Resources:\n",
    "\n",
    "- pd.read_html: https://pandas.pydata.org/docs/reference/api/pandas.read_html.html\n",
    "\n",
    "- requests: https://requests.readthedocs.io/en/latest/\n",
    "\n",
    "- Introduction to HTML: https://www.w3schools.com/html/html_intro.asp\n",
    "\n",
    "- BeautifulSoup: https://www.crummy.com/software/BeautifulSoup/bs4/doc/"
   ]
  },
  {
   "cell_type": "code",
   "execution_count": null,
   "metadata": {},
   "outputs": [],
   "source": [
    "#! conda install -c conda-forge beautifulsoup4\n",
    "# pip install beautifulsoup4"
   ]
  },
  {
   "cell_type": "markdown",
   "metadata": {},
   "source": [
    "Let's take a quick look at the tutorial website we'll scrape from. \n",
    "\n",
    "http://quotes.toscrape.com/"
   ]
  },
  {
   "cell_type": "markdown",
   "metadata": {},
   "source": [
    "We observe that there are a number of quotes, which possess \n",
    "text, authors, and tags. There are multiple pages of \n",
    "these quotes, which are accessed via the \"Next\" button. \n",
    "\n",
    "For now, let's try just obtain the text on the webpage. "
   ]
  },
  {
   "cell_type": "code",
   "execution_count": null,
   "metadata": {
    "tags": []
   },
   "outputs": [],
   "source": [
    "import requests\n",
    "link = \"http://quotes.toscrape.com/\""
   ]
  },
  {
   "cell_type": "code",
   "execution_count": null,
   "metadata": {
    "tags": []
   },
   "outputs": [],
   "source": [
    "from bs4 import BeautifulSoup"
   ]
  },
  {
   "cell_type": "markdown",
   "metadata": {},
   "source": [
    "The `BeautifulSoup` type is a basis type for parsing a webpage."
   ]
  },
  {
   "cell_type": "code",
   "execution_count": null,
   "metadata": {
    "tags": []
   },
   "outputs": [],
   "source": []
  },
  {
   "cell_type": "markdown",
   "metadata": {},
   "source": [
    "## CSS Selectors\n",
    "\n",
    "CSS (Cascaded Styling Sheet) is a file type for styling web pages. It is designed to apply some formatting to certain parts of the webpage. How do we select \"certain parts\"? That is what CSS selectors are for. \n",
    "\n",
    "\n",
    "- CSS selector references: https://www.w3schools.com/cssref/css_selectors.php\n",
    "- a fun activity: https://flukeout.github.io/\n",
    "\n",
    "\n",
    "A quick code to parse text, author name, and the list of tags:\n",
    "\n",
    "- "
   ]
  },
  {
   "cell_type": "markdown",
   "metadata": {},
   "source": [
    "### Following the links\n",
    "\n",
    "At the bottom of each page, there is a \"next\" button. Can we follow the link?"
   ]
  },
  {
   "cell_type": "code",
   "execution_count": null,
   "metadata": {
    "tags": []
   },
   "outputs": [],
   "source": [
    "     "
   ]
  },
  {
   "cell_type": "markdown",
   "metadata": {},
   "source": [
    "__Exercise__: Can we continue on and parse all the quotes on that website?\n"
   ]
  },
  {
   "cell_type": "code",
   "execution_count": null,
   "metadata": {
    "tags": []
   },
   "outputs": [],
   "source": [
    "\n"
   ]
  },
  {
   "cell_type": "code",
   "execution_count": null,
   "metadata": {
    "tags": []
   },
   "outputs": [],
   "source": [
    "base_url = \"http://quotes.toscrape.com/\"\n"
   ]
  },
  {
   "cell_type": "markdown",
   "metadata": {},
   "source": [
    "## Example: Get the wikipedia links to country capitals\n",
    "\n",
    "Our question: \"*Get the Wikipedia links to each country capital from [this page](https://en.m.wikipedia.org/wiki/List_of_national_capitals)*\" (note the mobile page link)\n",
    "\n",
    "If you are on a desktop machine, the Wikipedia page has a table at the top before it goes into the table with the capitals/countries. "
   ]
  },
  {
   "cell_type": "code",
   "execution_count": null,
   "metadata": {
    "tags": []
   },
   "outputs": [],
   "source": [
    "soup = link2soup(\"https://en.m.wikipedia.org/wiki/List_of_national_capitals\")"
   ]
  },
  {
   "cell_type": "code",
   "execution_count": null,
   "metadata": {
    "tags": []
   },
   "outputs": [],
   "source": [
    "# Recall that we have the hierarchy <tr> -> <td> -> <a>, and that the href= attribute is part of the <a> tag. We need to find all the <tr> tags, then get the (first) <td> tag for each, the <a> tag from the <td> tag, and finally get the href= from that.\n"
   ]
  },
  {
   "cell_type": "code",
   "execution_count": null,
   "metadata": {
    "tags": []
   },
   "outputs": [],
   "source": [
    "# What if we want both the links for the capital AND the country? Then we need to get ALL the <td> tags for each <tr> row. Using a nested list comprehension(!):\n"
   ]
  },
  {
   "cell_type": "markdown",
   "metadata": {},
   "source": [
    "## Example: The 100 most popular feature films released in 2023\n",
    "\n",
    "Can be accessed at: https://www.imdb.com/search/title/?title_type=feature&release_date=2023-01-01,2023-12-31&count=100"
   ]
  },
  {
   "cell_type": "code",
   "execution_count": null,
   "metadata": {
    "tags": []
   },
   "outputs": [],
   "source": [
    "url = \"https://www.imdb.com/search/title/?title_type=feature&release_date=2023-01-01,2023-12-31&count=100\"\n",
    "headers = {'User-Agent': 'Mozilla/5.0 (Windows NT 6.1; WOW64; rv:50.0) Gecko/20100101 Firefox/50.0'} \n",
    "# you act like user, not a robot. \n"
   ]
  },
  {
   "cell_type": "markdown",
   "metadata": {},
   "source": [
    "Suppose we want to scrape following 8 features from this page:\n",
    "- Rank (popularity)\n",
    "- Title\n",
    "- Description\n",
    "- Runtime\n",
    "- User rating\n",
    "- Metascore"
   ]
  },
  {
   "cell_type": "markdown",
   "metadata": {},
   "source": [
    "### Rank and title"
   ]
  },
  {
   "cell_type": "code",
   "execution_count": null,
   "metadata": {},
   "outputs": [],
   "source": []
  },
  {
   "cell_type": "markdown",
   "metadata": {},
   "source": [
    "### Descriptions"
   ]
  },
  {
   "cell_type": "code",
   "execution_count": null,
   "metadata": {},
   "outputs": [],
   "source": []
  },
  {
   "cell_type": "markdown",
   "metadata": {},
   "source": [
    "### Runtimes"
   ]
  },
  {
   "cell_type": "code",
   "execution_count": null,
   "metadata": {
    "tags": []
   },
   "outputs": [],
   "source": []
  },
  {
   "cell_type": "markdown",
   "metadata": {
    "tags": []
   },
   "source": [
    "### User rating"
   ]
  },
  {
   "cell_type": "code",
   "execution_count": null,
   "metadata": {
    "tags": []
   },
   "outputs": [],
   "source": []
  },
  {
   "cell_type": "markdown",
   "metadata": {},
   "source": [
    "### Metascore"
   ]
  },
  {
   "cell_type": "code",
   "execution_count": null,
   "metadata": {
    "tags": []
   },
   "outputs": [],
   "source": []
  },
  {
   "cell_type": "markdown",
   "metadata": {},
   "source": [
    "Oops, we only have 23 metascore data, and 2 are missing. How do we figure out the films with missing metascore?"
   ]
  },
  {
   "cell_type": "markdown",
   "metadata": {},
   "source": [
    "### Visualizing the data"
   ]
  },
  {
   "cell_type": "code",
   "execution_count": null,
   "metadata": {},
   "outputs": [],
   "source": []
  }
 ],
 "metadata": {
  "kernelspec": {
   "display_name": "Python 3",
   "language": "python",
   "name": "python3"
  },
  "language_info": {
   "codemirror_mode": {
    "name": "ipython",
    "version": 3
   },
   "file_extension": ".py",
   "mimetype": "text/x-python",
   "name": "python",
   "nbconvert_exporter": "python",
   "pygments_lexer": "ipython3",
   "version": "3.7.6"
  }
 },
 "nbformat": 4,
 "nbformat_minor": 5
}
