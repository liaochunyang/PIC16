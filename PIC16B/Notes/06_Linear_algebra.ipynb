{
 "cells": [
  {
   "cell_type": "markdown",
   "metadata": {},
   "source": [
    "# Linear Algebra\n",
    "\n",
    "In this notes, we will discuss vector, matrix, matrix multiplication, inverse matrix, transpose, norm, linear system, and least-square problem."
   ]
  },
  {
   "cell_type": "code",
   "execution_count": 48,
   "metadata": {},
   "outputs": [],
   "source": [
    "import numpy as np"
   ]
  },
  {
   "cell_type": "markdown",
   "metadata": {},
   "source": [
    "## matrix, vector and multiplication"
   ]
  },
  {
   "cell_type": "code",
   "execution_count": 4,
   "metadata": {},
   "outputs": [
    {
     "data": {
      "text/plain": [
       "(2, 1)"
      ]
     },
     "execution_count": 4,
     "metadata": {},
     "output_type": "execute_result"
    }
   ],
   "source": [
    "# matrix, vector and multiplication\n",
    "A = np.array([[1,2,1],[0,1,0]])\n",
    "x = np.array([[1],[2],[3]])\n",
    "b = A@x\n",
    "b.shape"
   ]
  },
  {
   "cell_type": "code",
   "execution_count": 5,
   "metadata": {},
   "outputs": [
    {
     "data": {
      "text/plain": [
       "(2,)"
      ]
     },
     "execution_count": 5,
     "metadata": {},
     "output_type": "execute_result"
    }
   ],
   "source": [
    "A = np.array([[1,2,1],[0,1,0]])\n",
    "x = np.array([1,2,3])\n",
    "b = A@x\n",
    "b.shape"
   ]
  },
  {
   "cell_type": "code",
   "execution_count": 6,
   "metadata": {},
   "outputs": [
    {
     "data": {
      "text/plain": [
       "array([8, 2])"
      ]
     },
     "execution_count": 6,
     "metadata": {},
     "output_type": "execute_result"
    }
   ],
   "source": [
    "b"
   ]
  },
  {
   "cell_type": "code",
   "execution_count": 7,
   "metadata": {},
   "outputs": [
    {
     "data": {
      "text/plain": [
       "array([[2, 3],\n",
       "       [0, 1]])"
      ]
     },
     "execution_count": 7,
     "metadata": {},
     "output_type": "execute_result"
    }
   ],
   "source": [
    "# matrix by matrix\n",
    "B = np.array([[1,0],[0,1],[1,1]])\n",
    "A@B"
   ]
  },
  {
   "cell_type": "markdown",
   "metadata": {},
   "source": [
    "## Inverse and transpose"
   ]
  },
  {
   "cell_type": "code",
   "execution_count": 9,
   "metadata": {},
   "outputs": [
    {
     "name": "stdout",
     "output_type": "stream",
     "text": [
      "True\n",
      "True\n"
     ]
    }
   ],
   "source": [
    "# inverse of a matrix\n",
    "A = np.array([[1,2],[2,5]])\n",
    "A_inv = np.linalg.inv(A)\n",
    "print(np.allclose(A@A_inv, np.identity(2)))\n",
    "print(np.allclose(A_inv@A, np.identity(2)))"
   ]
  },
  {
   "cell_type": "code",
   "execution_count": 10,
   "metadata": {},
   "outputs": [
    {
     "ename": "LinAlgError",
     "evalue": "Singular matrix",
     "output_type": "error",
     "traceback": [
      "\u001b[0;31m---------------------------------------------------------------------------\u001b[0m",
      "\u001b[0;31mLinAlgError\u001b[0m                               Traceback (most recent call last)",
      "\u001b[0;32m<ipython-input-10-de16fe7b418c>\u001b[0m in \u001b[0;36m<module>\u001b[0;34m\u001b[0m\n\u001b[1;32m      1\u001b[0m \u001b[0;31m# not all matrix are invertibe\u001b[0m\u001b[0;34m\u001b[0m\u001b[0;34m\u001b[0m\u001b[0;34m\u001b[0m\u001b[0m\n\u001b[1;32m      2\u001b[0m \u001b[0mA\u001b[0m \u001b[0;34m=\u001b[0m \u001b[0mnp\u001b[0m\u001b[0;34m.\u001b[0m\u001b[0marray\u001b[0m\u001b[0;34m(\u001b[0m\u001b[0;34m[\u001b[0m\u001b[0;34m[\u001b[0m\u001b[0;36m1\u001b[0m\u001b[0;34m,\u001b[0m\u001b[0;36m2\u001b[0m\u001b[0;34m]\u001b[0m\u001b[0;34m,\u001b[0m\u001b[0;34m[\u001b[0m\u001b[0;36m2\u001b[0m\u001b[0;34m,\u001b[0m\u001b[0;36m4\u001b[0m\u001b[0;34m]\u001b[0m\u001b[0;34m]\u001b[0m\u001b[0;34m)\u001b[0m\u001b[0;34m\u001b[0m\u001b[0;34m\u001b[0m\u001b[0m\n\u001b[0;32m----> 3\u001b[0;31m \u001b[0mnp\u001b[0m\u001b[0;34m.\u001b[0m\u001b[0mlinalg\u001b[0m\u001b[0;34m.\u001b[0m\u001b[0minv\u001b[0m\u001b[0;34m(\u001b[0m\u001b[0mA\u001b[0m\u001b[0;34m)\u001b[0m\u001b[0;34m\u001b[0m\u001b[0;34m\u001b[0m\u001b[0m\n\u001b[0m",
      "\u001b[0;32m<__array_function__ internals>\u001b[0m in \u001b[0;36minv\u001b[0;34m(*args, **kwargs)\u001b[0m\n",
      "\u001b[0;32m/Applications/anaconda3/lib/python3.7/site-packages/numpy/linalg/linalg.py\u001b[0m in \u001b[0;36minv\u001b[0;34m(a)\u001b[0m\n\u001b[1;32m    544\u001b[0m     \u001b[0msignature\u001b[0m \u001b[0;34m=\u001b[0m \u001b[0;34m'D->D'\u001b[0m \u001b[0;32mif\u001b[0m \u001b[0misComplexType\u001b[0m\u001b[0;34m(\u001b[0m\u001b[0mt\u001b[0m\u001b[0;34m)\u001b[0m \u001b[0;32melse\u001b[0m \u001b[0;34m'd->d'\u001b[0m\u001b[0;34m\u001b[0m\u001b[0;34m\u001b[0m\u001b[0m\n\u001b[1;32m    545\u001b[0m     \u001b[0mextobj\u001b[0m \u001b[0;34m=\u001b[0m \u001b[0mget_linalg_error_extobj\u001b[0m\u001b[0;34m(\u001b[0m\u001b[0m_raise_linalgerror_singular\u001b[0m\u001b[0;34m)\u001b[0m\u001b[0;34m\u001b[0m\u001b[0;34m\u001b[0m\u001b[0m\n\u001b[0;32m--> 546\u001b[0;31m     \u001b[0mainv\u001b[0m \u001b[0;34m=\u001b[0m \u001b[0m_umath_linalg\u001b[0m\u001b[0;34m.\u001b[0m\u001b[0minv\u001b[0m\u001b[0;34m(\u001b[0m\u001b[0ma\u001b[0m\u001b[0;34m,\u001b[0m \u001b[0msignature\u001b[0m\u001b[0;34m=\u001b[0m\u001b[0msignature\u001b[0m\u001b[0;34m,\u001b[0m \u001b[0mextobj\u001b[0m\u001b[0;34m=\u001b[0m\u001b[0mextobj\u001b[0m\u001b[0;34m)\u001b[0m\u001b[0;34m\u001b[0m\u001b[0;34m\u001b[0m\u001b[0m\n\u001b[0m\u001b[1;32m    547\u001b[0m     \u001b[0;32mreturn\u001b[0m \u001b[0mwrap\u001b[0m\u001b[0;34m(\u001b[0m\u001b[0mainv\u001b[0m\u001b[0;34m.\u001b[0m\u001b[0mastype\u001b[0m\u001b[0;34m(\u001b[0m\u001b[0mresult_t\u001b[0m\u001b[0;34m,\u001b[0m \u001b[0mcopy\u001b[0m\u001b[0;34m=\u001b[0m\u001b[0;32mFalse\u001b[0m\u001b[0;34m)\u001b[0m\u001b[0;34m)\u001b[0m\u001b[0;34m\u001b[0m\u001b[0;34m\u001b[0m\u001b[0m\n\u001b[1;32m    548\u001b[0m \u001b[0;34m\u001b[0m\u001b[0m\n",
      "\u001b[0;32m/Applications/anaconda3/lib/python3.7/site-packages/numpy/linalg/linalg.py\u001b[0m in \u001b[0;36m_raise_linalgerror_singular\u001b[0;34m(err, flag)\u001b[0m\n\u001b[1;32m     86\u001b[0m \u001b[0;34m\u001b[0m\u001b[0m\n\u001b[1;32m     87\u001b[0m \u001b[0;32mdef\u001b[0m \u001b[0m_raise_linalgerror_singular\u001b[0m\u001b[0;34m(\u001b[0m\u001b[0merr\u001b[0m\u001b[0;34m,\u001b[0m \u001b[0mflag\u001b[0m\u001b[0;34m)\u001b[0m\u001b[0;34m:\u001b[0m\u001b[0;34m\u001b[0m\u001b[0;34m\u001b[0m\u001b[0m\n\u001b[0;32m---> 88\u001b[0;31m     \u001b[0;32mraise\u001b[0m \u001b[0mLinAlgError\u001b[0m\u001b[0;34m(\u001b[0m\u001b[0;34m\"Singular matrix\"\u001b[0m\u001b[0;34m)\u001b[0m\u001b[0;34m\u001b[0m\u001b[0;34m\u001b[0m\u001b[0m\n\u001b[0m\u001b[1;32m     89\u001b[0m \u001b[0;34m\u001b[0m\u001b[0m\n\u001b[1;32m     90\u001b[0m \u001b[0;32mdef\u001b[0m \u001b[0m_raise_linalgerror_nonposdef\u001b[0m\u001b[0;34m(\u001b[0m\u001b[0merr\u001b[0m\u001b[0;34m,\u001b[0m \u001b[0mflag\u001b[0m\u001b[0;34m)\u001b[0m\u001b[0;34m:\u001b[0m\u001b[0;34m\u001b[0m\u001b[0;34m\u001b[0m\u001b[0m\n",
      "\u001b[0;31mLinAlgError\u001b[0m: Singular matrix"
     ]
    }
   ],
   "source": [
    "# not all matrix are invertibe\n",
    "A = np.array([[1,2],[2,4]])\n",
    "np.linalg.inv(A)"
   ]
  },
  {
   "cell_type": "code",
   "execution_count": 12,
   "metadata": {},
   "outputs": [
    {
     "name": "stdout",
     "output_type": "stream",
     "text": [
      "[[ 1 10]\n",
      " [ 2  4]]\n",
      " \n",
      "[[ 1  2]\n",
      " [10  4]]\n",
      "[[ 1  2]\n",
      " [10  4]]\n"
     ]
    }
   ],
   "source": [
    "# transpose\n",
    "A = np.array([[1,10],[2,4]])\n",
    "print(A)\n",
    "print(\" \")\n",
    "print(A.T)\n",
    "print(np.transpose(A))"
   ]
  },
  {
   "cell_type": "markdown",
   "metadata": {},
   "source": [
    "## Norm \n",
    "\n",
    "Mathematical formulas are given during the lecture. You can also check this [page](https://en.wikipedia.org/wiki/Norm_(mathematics))."
   ]
  },
  {
   "cell_type": "code",
   "execution_count": 13,
   "metadata": {},
   "outputs": [
    {
     "name": "stdout",
     "output_type": "stream",
     "text": [
      "For vector x,\n",
      "L2 norm is  5.5677643628300215\n",
      "\n"
     ]
    }
   ],
   "source": [
    "# vector norm\n",
    "x = np.array([1,-1,2,3,-4])\n",
    "print('For vector x,')\n",
    "print('L2 norm is ', np.linalg.norm(x))\n",
    "#print('L1 norm is ', np.linalg.norm(x,1))\n",
    "#print('L_infty norm is ',np.linalg.norm(x,np.inf))\n",
    "#print('L4 norm is ', np.linalg.norm(x,4))\n",
    "print('')"
   ]
  },
  {
   "cell_type": "code",
   "execution_count": 14,
   "metadata": {},
   "outputs": [
    {
     "name": "stdout",
     "output_type": "stream",
     "text": [
      "5.5677643628300215\n",
      "5.5677643628300215\n"
     ]
    }
   ],
   "source": [
    "x1 = x.reshape(5,1)\n",
    "x2 = x.reshape(1,5)\n",
    "\n",
    "print(np.linalg.norm(x1))\n",
    "print(np.linalg.norm(x2))"
   ]
  },
  {
   "cell_type": "markdown",
   "metadata": {},
   "source": [
    "We can use the same command to compute matrix norm, see examples below."
   ]
  },
  {
   "cell_type": "code",
   "execution_count": null,
   "metadata": {},
   "outputs": [],
   "source": [
    "# matrix norm \n",
    "A = np.arange(4).reshape(2,2)\n",
    "print('For matrix A,')\n",
    "print('Frobenius norm is ', np.linalg.norm(A))\n",
    "print('L2 norm is ', np.linalg.norm(A,2))"
   ]
  },
  {
   "cell_type": "code",
   "execution_count": 16,
   "metadata": {},
   "outputs": [
    {
     "data": {
      "text/plain": [
       "array([[0, 1],\n",
       "       [2, 3]])"
      ]
     },
     "execution_count": 16,
     "metadata": {},
     "output_type": "execute_result"
    }
   ],
   "source": [
    "A = np.arange(4).reshape(2,2)\n",
    "A"
   ]
  },
  {
   "cell_type": "code",
   "execution_count": 19,
   "metadata": {},
   "outputs": [
    {
     "data": {
      "text/plain": [
       "(1.5, array([1., 2.]), array([0.5, 2.5]))"
      ]
     },
     "execution_count": 19,
     "metadata": {},
     "output_type": "execute_result"
    }
   ],
   "source": [
    "np.mean(A), np.mean(A, axis=0), np.mean(A, axis=1)"
   ]
  },
  {
   "cell_type": "code",
   "execution_count": 21,
   "metadata": {},
   "outputs": [
    {
     "data": {
      "text/plain": [
       "(3.7416573867739413,\n",
       " array([2.        , 3.16227766]),\n",
       " array([1.        , 3.60555128]))"
      ]
     },
     "execution_count": 21,
     "metadata": {},
     "output_type": "execute_result"
    }
   ],
   "source": [
    "np.linalg.norm(A), np.linalg.norm(A, axis=0), np.linalg.norm(A, axis=1)"
   ]
  },
  {
   "cell_type": "markdown",
   "metadata": {},
   "source": [
    "## Linear system\n",
    "\n",
    "We will discuss solving linear system and least square problem.\n",
    "\n",
    "In many applications, we need to solve a linear system $Ax=b$. The goal is to find $x$ given matrix $A$ and output $b$. If $A$ is a square matrix and invertible, then we can solve the problem by multiplying $A^{-1}$ for both sides. However, computing $A^{-1}$ is expensive. In python, we can use numpy.linalg.solve command to solve $Ax=b$."
   ]
  },
  {
   "cell_type": "code",
   "execution_count": 53,
   "metadata": {},
   "outputs": [
    {
     "data": {
      "text/plain": [
       "True"
      ]
     },
     "execution_count": 53,
     "metadata": {},
     "output_type": "execute_result"
    }
   ],
   "source": [
    "A = np.array([[1,2],[2,5]])\n",
    "b = np.array([[3],[7]])\n",
    "\n",
    "# solve by using inverse\n",
    "x_inv = np.linalg.inv(A)@b\n",
    "\n",
    "# use solve command\n",
    "x_solve = np.linalg.solve(A,b)\n",
    "\n",
    "# compare\n",
    "np.allclose(x_inv,x_solve)"
   ]
  },
  {
   "cell_type": "markdown",
   "metadata": {},
   "source": [
    "Can we solve linear system $Ax=b$ when $A$ is not a square matrix or $A$ is a square matrix but not invertible?\n",
    "\n",
    "## Least-square problem\n",
    "\n",
    "We want to find $x$ such that $Ax$ is as close to $b$ as possible, i.e.\n",
    "\n",
    "$$ \\mathop{ \\mathrm{min} }_x \\|Ax-b\\|^2_2 $$\n",
    "\n",
    "- if we minimize L2 norm, it has a nice formula $x = (A^TA)^{-1}A^Tb$. This nice formula comes form normal equation $A^TAx = A^Tb$, which can be obtained by finding the gradient of objective function and setting it to zero.\n",
    "\n",
    "Minimize L2 norm problem is also called least square problem. Linear regression can be written in this form. Actually, many problems can be written as least square problem.\n",
    "\n",
    "We can also minimize other norms, but we do not have nice formula. But we can design other algorithms to solve it. \n"
   ]
  },
  {
   "cell_type": "code",
   "execution_count": 50,
   "metadata": {},
   "outputs": [
    {
     "data": {
      "text/plain": [
       "True"
      ]
     },
     "execution_count": 50,
     "metadata": {},
     "output_type": "execute_result"
    }
   ],
   "source": [
    "# verification:\n",
    "A = np.array([[1,1],[2,2],[1,0]])\n",
    "b = np.array([[5],[10],[7]])\n",
    "\n",
    "# inverse matrix\n",
    "x1 = np.linalg.inv(A.T@A)@A.T@b\n",
    "\n",
    "# solve command\n",
    "x2 = np.linalg.solve(A.T@A, A.T@b)\n",
    "\n",
    "# compare\n",
    "np.allclose(x1,x2)"
   ]
  },
  {
   "cell_type": "markdown",
   "metadata": {},
   "source": [
    "## Your own linear system solver\n",
    "\n",
    "Suppose you are working for a math software company and they ask you to design a software for solving linear systems. \n",
    "\n",
    "It is better to do it using class. Here is an example. \n",
    "\n",
    "P.S. The class is far from complete because the docstrings are missing. Could you please add it here?"
   ]
  },
  {
   "cell_type": "code",
   "execution_count": 68,
   "metadata": {},
   "outputs": [],
   "source": [
    "class LinearSolver():\n",
    "    \n",
    "    \n",
    "    def __init__(self, A, b):\n",
    "        \n",
    "        self.A = A\n",
    "        self.b = b\n",
    "        \n",
    "        self.A_shape = A.shape\n",
    "        self.b_shape = b.shape\n",
    "        \n",
    "        self.sol = None\n",
    "        \n",
    "        if np.ndim(self.A) == 2:\n",
    "            \n",
    "            print('Initialization is done!!!!!!!!!!')\n",
    "            \n",
    "        else:\n",
    "            \n",
    "            print(f'Only 2d numpy array is accepted. Now the dimension of A is {np.ndim(self.A)}')\n",
    "        \n",
    "    def check_shape(self):\n",
    "        \n",
    "        if self.A_shape[0] == self.b_shape[0]:\n",
    "            \n",
    "            print('Shape check passed.')\n",
    "            \n",
    "            \n",
    "            if self.A_shape[0] == self.A_shape[1]:\n",
    "                \n",
    "                print('Square matrix. Recommend solve equation.')\n",
    "                \n",
    "            if self.A_shape[0] < self.A_shape[1]:\n",
    "                \n",
    "                print('Number of rows is smaller than number of columns. LeastNorm is recommended.')\n",
    "                \n",
    "            if self.A_shape[0] > self.A_shape[1]:\n",
    "                \n",
    "                print('Number of rows is larger than number of columns. LeastSquare is recommended.')\n",
    "                     \n",
    "        else:\n",
    "            \n",
    "            print('Shape check fails.')\n",
    "            \n",
    "        \n",
    "    def solve(self, solver=\"equation\"):\n",
    "        \n",
    "        if solver == \"equation\":\n",
    "            \n",
    "            return np.linalg.solve(self.A, self.b)\n",
    "        \n",
    "        if solver == \"LeastSquare\":\n",
    "            \n",
    "            return np.linalg.solve(self.A.T@self.A, self.A.T@self.b)\n",
    "        \n",
    "    def linear_equation(self, solver=\"solve\"):\n",
    "        \n",
    "        if solver == \"solve\":\n",
    "            \n",
    "            self.sol = np.linalg.solve(self.A, self.b)\n",
    "            \n",
    "            return self.sol\n",
    "        \n",
    "        if solver == \"inverse\":\n",
    "            \n",
    "            self.sol = np.linalg.inv(self.A) @ self.b\n",
    "            \n",
    "            return self.sol\n",
    "        \n",
    "    def LeastSquare(self):\n",
    "        \n",
    "        self.sol = np.linalg.solve(self.A.T@self.A, self.A.T@self.b)\n",
    "        \n",
    "        return self.sol\n",
    "    \n",
    "    def Leastnorm(self):\n",
    "        \n",
    "        self.sol = self.A.T @ np.linalg.inv(self.A@self.A.T) @ self.b\n",
    "        \n",
    "        return self.sol\n",
    "    \n",
    "    def norm(self):\n",
    "        \n",
    "        if self.sol == None:\n",
    "            \n",
    "            print(\"Solution vector is not computed. Norm is not available.\")\n",
    "            \n",
    "        else:\n",
    "            \n",
    "            return np.linalg.norm(self.sol)"
   ]
  },
  {
   "cell_type": "markdown",
   "metadata": {},
   "source": [
    "Checking the correctness of your code can be done by running test examples. Given the following test examples, could you please write down the desired output without running them?"
   ]
  },
  {
   "cell_type": "code",
   "execution_count": 71,
   "metadata": {},
   "outputs": [
    {
     "name": "stdout",
     "output_type": "stream",
     "text": [
      "Initialization is done!!!!!!!!!!\n"
     ]
    }
   ],
   "source": [
    "# Test example:\n",
    "\n",
    "A = np.array([[1,2],[2,5]]).reshape(1,2,2,1)\n",
    "b = np.array([[3],[7]])\n",
    "linear = LinearSolver(A,b)"
   ]
  },
  {
   "cell_type": "code",
   "execution_count": null,
   "metadata": {},
   "outputs": [],
   "source": [
    "# Test example:\n",
    "\n",
    "A = np.array([[1,2],[2,4]])\n",
    "b = np.array([[3],[7]])\n",
    "linear = LinearSolver(A,b)"
   ]
  },
  {
   "cell_type": "code",
   "execution_count": null,
   "metadata": {},
   "outputs": [],
   "source": [
    "# Test example:\n",
    "\n",
    "A = np.array([[1,2],[2,5]])\n",
    "b = np.array([[3],[7]])\n",
    "linear = LinearSolver(A,b)\n",
    "linear.solve()"
   ]
  },
  {
   "cell_type": "code",
   "execution_count": null,
   "metadata": {},
   "outputs": [],
   "source": [
    "# Test example:\n",
    "\n",
    "A = np.array([[1,1],[2,2],[1,0]])\n",
    "b = np.array([[5],[10],[7]])\n",
    "linear = LinearSolver(A,b)\n",
    "linear.LeastSquare()"
   ]
  },
  {
   "cell_type": "code",
   "execution_count": null,
   "metadata": {},
   "outputs": [],
   "source": [
    "# Test example:\n",
    "\n",
    "A = np.array([[1,1],[2,2],[1,0],[10,20],[5,7],[3,0]])\n",
    "b = np.array([[5],[10],[7]])\n",
    "linear = LinearSolver(A,b)\n",
    "linear.check_shape()"
   ]
  }
 ],
 "metadata": {
  "kernelspec": {
   "display_name": "Python 3",
   "language": "python",
   "name": "python3"
  },
  "language_info": {
   "codemirror_mode": {
    "name": "ipython",
    "version": 3
   },
   "file_extension": ".py",
   "mimetype": "text/x-python",
   "name": "python",
   "nbconvert_exporter": "python",
   "pygments_lexer": "ipython3",
   "version": "3.7.6"
  }
 },
 "nbformat": 4,
 "nbformat_minor": 4
}
